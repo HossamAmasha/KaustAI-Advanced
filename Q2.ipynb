{
  "cells": [
    {
      "cell_type": "markdown",
      "source": [
        "# CREATE A COPY FIRST!"
      ],
      "metadata": {
        "id": "-r7PP3X3JvaQ"
      }
    },
    {
      "cell_type": "markdown",
      "metadata": {
        "id": "6OoLaW7vo3eC"
      },
      "source": [
        "## **Question 2: Arabic Handwritten Character Search**\n",
        "\n",
        "Ali’s younger brother is learning to write Arabic characters. One day, he wrote a character that looks like **\"ب\"**, and Ali wants to find **the most similar 5 images** from a dataset of handwritten Arabic characters.\n",
        "\n",
        "📝 **Your Task:**  \n",
        "Complete the missing code cells below by implementing **image search** to find the most similar 5 images to the given input character.  \n",
        "\n"
      ]
    },
    {
      "cell_type": "markdown",
      "metadata": {
        "id": "43-3OiiSJurY"
      },
      "source": [
        "# Download Data"
      ]
    },
    {
      "cell_type": "markdown",
      "metadata": {
        "id": "IF8OOwmTw7MC"
      },
      "source": [
        "### Query Image"
      ]
    },
    {
      "cell_type": "code",
      "execution_count": 1,
      "metadata": {
        "execution": {
          "iopub.execute_input": "2025-02-18T06:30:04.904637Z",
          "iopub.status.busy": "2025-02-18T06:30:04.904181Z",
          "iopub.status.idle": "2025-02-18T06:30:04.909035Z",
          "shell.execute_reply": "2025-02-18T06:30:04.907557Z",
          "shell.execute_reply.started": "2025-02-18T06:30:04.904603Z"
        },
        "id": "FQPjN6xPvssH",
        "trusted": true
      },
      "outputs": [],
      "source": [
        "# # Please uncomment this out when you are running this lab on google colab!\n",
        "import os\n",
        "\n",
        "# # Set KaggleHub cache to a directory inside /content/\n",
        "os.environ[\"KAGGLEHUB_CACHE\"] = \"/content/data\""
      ]
    },
    {
      "cell_type": "code",
      "execution_count": 2,
      "metadata": {
        "id": "zb3_G3UxudPV",
        "trusted": true,
        "colab": {
          "base_uri": "https://localhost:8080/",
          "height": 122
        },
        "outputId": "c94921f6-3b98-45ce-b446-fd9cff83106b"
      },
      "outputs": [
        {
          "output_type": "stream",
          "name": "stdout",
          "text": [
            "Warning: Looks like you're using an outdated `kagglehub` version (installed: 0.3.7), please consider upgrading to the latest version (0.3.8).\n",
            "Downloading from https://www.kaggle.com/api/v1/datasets/download/mohammad2012191/character?dataset_version_number=5...\n"
          ]
        },
        {
          "output_type": "stream",
          "name": "stderr",
          "text": [
            "100%|██████████| 320/320 [00:00<00:00, 243kB/s]"
          ]
        },
        {
          "output_type": "stream",
          "name": "stdout",
          "text": [
            "Extracting files...\n"
          ]
        },
        {
          "output_type": "stream",
          "name": "stderr",
          "text": [
            "\n"
          ]
        },
        {
          "output_type": "execute_result",
          "data": {
            "text/plain": [
              "<PIL.PngImagePlugin.PngImageFile image mode=L size=32x32>"
            ],
            "image/png": "[encoded data removed]",
            "image/jpeg": "[encoded data removed]"
          },
          "metadata": {},
          "execution_count": 2
        }
      ],
      "source": [
        "import kagglehub\n",
        "from PIL import Image\n",
        "import os\n",
        "\n",
        "path = kagglehub.dataset_download(\"mohammad2012191/character\")\n",
        "raw_query_image = Image.open(os.path.join(path,\"char.png\"))\n",
        "raw_query_image"
      ]
    },
    {
      "cell_type": "markdown",
      "metadata": {
        "id": "BQzaaxRWw9I6"
      },
      "source": [
        "### Arabic Characters Dataset"
      ]
    },
    {
      "cell_type": "code",
      "execution_count": 3,
      "metadata": {
        "id": "M83HESLawt9N",
        "trusted": true,
        "colab": {
          "base_uri": "https://localhost:8080/"
        },
        "outputId": "6e13f173-5333-44cd-a596-80f1013b6b39"
      },
      "outputs": [
        {
          "output_type": "stream",
          "name": "stdout",
          "text": [
            "Warning: Looks like you're using an outdated `kagglehub` version (installed: 0.3.7), please consider upgrading to the latest version (0.3.8).\n",
            "Downloading from https://www.kaggle.com/api/v1/datasets/download/mohammad2012191/arabic-chars?dataset_version_number=3...\n"
          ]
        },
        {
          "output_type": "stream",
          "name": "stderr",
          "text": [
            "100%|██████████| 219k/219k [00:00<00:00, 494kB/s]"
          ]
        },
        {
          "output_type": "stream",
          "name": "stdout",
          "text": [
            "Extracting files...\n",
            "Path to dataset files: /content/data/datasets/mohammad2012191/arabic-chars/versions/3\n"
          ]
        },
        {
          "output_type": "stream",
          "name": "stderr",
          "text": [
            "\n"
          ]
        }
      ],
      "source": [
        "import kagglehub\n",
        "\n",
        "# Download latest version\n",
        "dataset_path = kagglehub.dataset_download(\"mohammad2012191/arabic-chars\")\n",
        "\n",
        "print(\"Path to dataset files:\", dataset_path)"
      ]
    },
    {
      "cell_type": "markdown",
      "metadata": {
        "id": "1UsLqWiZ2gdt"
      },
      "source": [
        "# TASK 1: Complete the following code to build a custom dataset class for the data"
      ]
    },
    {
      "cell_type": "code",
      "execution_count": 4,
      "metadata": {
        "execution": {
          "iopub.execute_input": "2025-02-18T06:30:05.649942Z",
          "iopub.status.busy": "2025-02-18T06:30:05.649623Z",
          "iopub.status.idle": "2025-02-18T06:30:05.657730Z",
          "shell.execute_reply": "2025-02-18T06:30:05.656457Z",
          "shell.execute_reply.started": "2025-02-18T06:30:05.649915Z"
        },
        "id": "GOkfhgZpxLK0",
        "trusted": true
      },
      "outputs": [],
      "source": [
        "import os\n",
        "import glob\n",
        "from PIL import Image\n",
        "from torch.utils.data import Dataset, DataLoader\n",
        "import torchvision.transforms as transforms\n",
        "\n",
        "class ArabicHandwritingDataset(Dataset):\n",
        "    def __init__(self, root_dir, transform=None):\n",
        "        self.root_dir = root_dir\n",
        "        self.image_paths = glob.glob(os.path.join(root_dir, \"*.png\"))  # Extract all image paths: Use glob to extract images paths from root_dir\n",
        "        self.transform = transform\n",
        "\n",
        "    def __len__(self):\n",
        "        return len(self.image_paths)\n",
        "\n",
        "    def __getitem__(self, idx):\n",
        "        img_path = self.image_paths[idx]\n",
        "        image = Image.open(img_path).convert(\"RGB\") # TO DO: Write a line to load the image from img_path\n",
        "        label = os.path.basename(img_path).split(\"_\")[0] # TO DO: Write a line to extract the label from img_path\n",
        "        if self.transform:\n",
        "            image = self.transform(image)\n",
        "        return image, label"
      ]
    },
    {
      "cell_type": "code",
      "execution_count": 6,
      "metadata": {
        "execution": {
          "iopub.execute_input": "2025-02-18T06:30:05.660017Z",
          "iopub.status.busy": "2025-02-18T06:30:05.659526Z",
          "iopub.status.idle": "2025-02-18T06:30:05.690778Z",
          "shell.execute_reply": "2025-02-18T06:30:05.689570Z",
          "shell.execute_reply.started": "2025-02-18T06:30:05.659980Z"
        },
        "trusted": true,
        "id": "hYZdiQhyJurc",
        "outputId": "b65a0baa-3b4c-4344-a008-ac467bc7fe8d",
        "colab": {
          "base_uri": "https://localhost:8080/"
        }
      },
      "outputs": [
        {
          "output_type": "stream",
          "name": "stdout",
          "text": [
            "Total images: 668\n"
          ]
        }
      ],
      "source": [
        "transform = transforms.Compose([\n",
        "    transforms.Grayscale(3),\n",
        "    transforms.Resize((32, 32)), # TO DO: Resize to 32*32\n",
        "    transforms.ToTensor(), # TO DO: Convert to Tensor\n",
        "    transforms.Normalize(mean=[0.485, 0.456, 0.406], std=[0.229, 0.224, 0.225]) # TO DO: Normalize using Imagenet mean and std\n",
        "])\n",
        "\n",
        "\n",
        "train_dataset = ArabicHandwritingDataset(root_dir=os.path.join(dataset_path,\"chars images\"), transform=transform)\n",
        "train_loader = DataLoader(train_dataset, batch_size=32, shuffle=True, num_workers=2)# TO DO\n",
        "print(f\"Total images: {len(train_dataset)}\")\n",
        "\n",
        "\n",
        "\n",
        "transformed_query_image = transform(raw_query_image).unsqueeze(0)# TO DO: Apply the transform to raw_query_image"
      ]
    },
    {
      "cell_type": "markdown",
      "metadata": {
        "id": "KlsU08eB1RPQ"
      },
      "source": [
        "# TASK 2: Use EfficientNet B3 to extract features."
      ]
    },
    {
      "cell_type": "markdown",
      "metadata": {
        "id": "_Otiq1WbJurd"
      },
      "source": [
        "##### import using:\n",
        "from torchvision.models import efficientnet_b3"
      ]
    },
    {
      "cell_type": "markdown",
      "metadata": {
        "id": "UXqoQqeFJurd"
      },
      "source": [
        "### Extract Features for the dataset images"
      ]
    },
    {
      "cell_type": "code",
      "execution_count": 13,
      "metadata": {
        "trusted": true,
        "id": "k_R5kalRJurd",
        "colab": {
          "base_uri": "https://localhost:8080/"
        },
        "outputId": "911fdc1f-13f8-47a1-d9e4-cd044442aac9"
      },
      "outputs": [
        {
          "output_type": "stream",
          "name": "stderr",
          "text": [
            "100%|██████████| 21/21 [00:07<00:00,  2.73it/s]"
          ]
        },
        {
          "output_type": "stream",
          "name": "stdout",
          "text": [
            "Dataset Features Shape: (668, 1536)\n",
            "Query Image Features Shape: (1, 1536)\n",
            "Raw Image Tensors Shape: torch.Size([668, 3, 32, 32])\n"
          ]
        },
        {
          "output_type": "stream",
          "name": "stderr",
          "text": [
            "\n"
          ]
        }
      ],
      "source": [
        "import torch\n",
        "import torchvision.models as models\n",
        "import torch.nn as nn\n",
        "# TO DO: Load pretrained efficientnet_b3 model\n",
        "device = \"cuda\" if torch.cuda.is_available() else \"cpu\"\n",
        "efficientnet = models.efficientnet_b3(pretrained=True)\n",
        "efficientnet.eval().to(device)\n",
        "\n",
        "\n",
        "# TO DO: Use efficientnet_b3 to extract features\n",
        "def extract_features(image_tensor):\n",
        "    image_tensor = image_tensor.to(device)\n",
        "    with torch.no_grad():\n",
        "        features = efficientnet.features(image_tensor)  # Extract features\n",
        "        features = torch.flatten(features, start_dim=1)  # Flatten before passing to classifier\n",
        "    return features\n",
        "\n",
        "all_features = []\n",
        "image_tensors = []\n",
        "\n",
        "for images, _ in tqdm(train_loader):\n",
        "    image_tensors.append(images)\n",
        "    features = extract_features(images)\n",
        "    all_features.append(features.cpu())\n",
        "\n",
        "# TO DO: Convert features to numpy and concatenate them.\n",
        "all_features = torch.cat(all_features).numpy()\n",
        "\n",
        "# TO DO: Concatenate the raw images tensors\n",
        "\n",
        "image_tensors = torch.cat(image_tensors)\n",
        "print(f\"Dataset Features Shape: {dataset_features_np.shape}\")\n",
        "print(f\"Query Image Features Shape: {query_image_feats_np.shape}\")\n",
        "print(f\"Raw Image Tensors Shape: {image_tensors.shape}\")  # Confirm concatenation"
      ]
    },
    {
      "cell_type": "markdown",
      "metadata": {
        "id": "nrnv6Q1OJurd"
      },
      "source": [
        "### Extract Features for the query image"
      ]
    },
    {
      "cell_type": "code",
      "execution_count": 24,
      "metadata": {
        "execution": {
          "iopub.execute_input": "2025-02-18T06:30:13.453921Z",
          "iopub.status.busy": "2025-02-18T06:30:13.453350Z",
          "iopub.status.idle": "2025-02-18T06:30:13.492599Z",
          "shell.execute_reply": "2025-02-18T06:30:13.491384Z",
          "shell.execute_reply.started": "2025-02-18T06:30:13.453871Z"
        },
        "trusted": true,
        "id": "lYyANrzZJure"
      },
      "outputs": [],
      "source": [
        "### TO DO: Fix the error in this line so it extracts features from the query image successfully\n",
        "query_image_feats = extract_features(transformed_query_image)"
      ]
    },
    {
      "cell_type": "markdown",
      "metadata": {
        "id": "33H1GIb41uG0"
      },
      "source": [
        "# TASK 3: Get the indices of top 5 images using Cosine Similarity"
      ]
    },
    {
      "cell_type": "code",
      "execution_count": 17,
      "metadata": {
        "execution": {
          "iopub.execute_input": "2025-02-18T06:30:13.494220Z",
          "iopub.status.busy": "2025-02-18T06:30:13.493875Z",
          "iopub.status.idle": "2025-02-18T06:30:13.512319Z",
          "shell.execute_reply": "2025-02-18T06:30:13.510810Z",
          "shell.execute_reply.started": "2025-02-18T06:30:13.494190Z"
        },
        "id": "-0gHEjRi10FQ",
        "trusted": true,
        "colab": {
          "base_uri": "https://localhost:8080/"
        },
        "outputId": "51edd11d-a370-4bad-e8cc-6fe9f856e67f"
      },
      "outputs": [
        {
          "output_type": "stream",
          "name": "stdout",
          "text": [
            "Top 5 Most Similar Images:\n",
            "Rank 1: Image Index 400, Similarity Score: 0.9816\n",
            "Rank 2: Image Index 549, Similarity Score: 0.9803\n",
            "Rank 3: Image Index 344, Similarity Score: 0.9790\n",
            "Rank 4: Image Index 217, Similarity Score: 0.9749\n",
            "Rank 5: Image Index 55, Similarity Score: 0.9720\n"
          ]
        }
      ],
      "source": [
        "from sklearn.metrics.pairwise import cosine_similarity\n",
        "import numpy as np\n",
        "\n",
        "similarities = cosine_similarity(query_image_feats_np, dataset_features_np)[0]  #first row\n",
        "\n",
        "top_indices = np.argsort(similarities)[::-1][:5]  #sort in descending order , take top 5\n",
        "#print\n",
        "print(\"Top 5 Most Similar Images:\")\n",
        "for i, idx in enumerate(top_indices):\n",
        "    print(f\"Rank {i+1}: Image Index {idx}, Similarity Score: {similarities[idx]:.4f}\")\n"
      ]
    },
    {
      "cell_type": "markdown",
      "metadata": {
        "id": "viNWPZsH12fG"
      },
      "source": [
        "# TASK 4: Fix the errors in the following code to plot the most 5 similar images"
      ]
    },
    {
      "cell_type": "code",
      "execution_count": 23,
      "metadata": {
        "id": "7nwlMW-518q4",
        "trusted": true,
        "colab": {
          "base_uri": "https://localhost:8080/",
          "height": 360
        },
        "outputId": "751d4ccc-f739-491d-b391-aaae963c37b4"
      },
      "outputs": [
        {
          "output_type": "stream",
          "name": "stderr",
          "text": [
            "WARNING:matplotlib.image:Clipping input data to the valid range for imshow with RGB data ([0..1] for floats or [0..255] for integers). Got range [-2.117904..2.64].\n",
            "WARNING:matplotlib.image:Clipping input data to the valid range for imshow with RGB data ([0..1] for floats or [0..255] for integers). Got range [-2.117904..2.64].\n",
            "WARNING:matplotlib.image:Clipping input data to the valid range for imshow with RGB data ([0..1] for floats or [0..255] for integers). Got range [-2.117904..2.64].\n",
            "WARNING:matplotlib.image:Clipping input data to the valid range for imshow with RGB data ([0..1] for floats or [0..255] for integers). Got range [-2.117904..2.64].\n",
            "WARNING:matplotlib.image:Clipping input data to the valid range for imshow with RGB data ([0..1] for floats or [0..255] for integers). Got range [-2.117904..2.64].\n",
            "WARNING:matplotlib.image:Clipping input data to the valid range for imshow with RGB data ([0..1] for floats or [0..255] for integers). Got range [-2.117904..2.64].\n"
          ]
        },
        {
          "output_type": "display_data",
          "data": {
            "text/plain": [
              "<Figure size 1500x300 with 6 Axes>"
            ],
            "image/png": "[encoded data removed]"
          },
          "metadata": {}
        }
      ],
      "source": [
        "import matplotlib.pyplot as plt\n",
        "\n",
        "# Display query & retrieved images with similarity scores\n",
        "fig, axes = plt.subplots(1, 6, figsize=(15, 3))\n",
        "\n",
        "# Query image\n",
        "axes[0].imshow(transformed_query_image.squeeze(0).permute(1, 2, 0).numpy())  #convert tensor to image\n",
        "axes[0].set_title(\"Query Image\")\n",
        "axes[0].axis(\"off\")\n",
        "\n",
        "# Retrieved similar images with similarity scores\n",
        "for i, idx in enumerate(top_indices):\n",
        "    image = image_tensors[idx].permute(1, 2, 0).numpy()  #convert tensor to image\n",
        "    similarity_score = similarities[idx]  # Get similarity score\n",
        "    axes[i + 1].imshow(image)\n",
        "    axes[i + 1].set_title(f\"Similar {i+1}\\n{100*similarity_score:.2f}%\")  #Show similarity score\n",
        "    axes[i + 1].axis(\"off\")\n",
        "\n",
        "plt.show()\n"
      ]
    },
    {
      "cell_type": "markdown",
      "metadata": {
        "id": "6jhRQLRJ1-y5"
      },
      "source": [
        "# Bonus Task:  Get the indices of the most 5 *dissimilar* images and plot them"
      ]
    },
    {
      "cell_type": "code",
      "execution_count": 26,
      "metadata": {
        "trusted": true,
        "id": "n2XW0YfzJure",
        "colab": {
          "base_uri": "https://localhost:8080/",
          "height": 469
        },
        "outputId": "8f2df5a3-e8be-4b8a-c89a-47b3a1a60e3c"
      },
      "outputs": [
        {
          "output_type": "stream",
          "name": "stderr",
          "text": [
            "WARNING:matplotlib.image:Clipping input data to the valid range for imshow with RGB data ([0..1] for floats or [0..255] for integers). Got range [-2.117904..2.64].\n",
            "WARNING:matplotlib.image:Clipping input data to the valid range for imshow with RGB data ([0..1] for floats or [0..255] for integers). Got range [-2.117904..2.64].\n",
            "WARNING:matplotlib.image:Clipping input data to the valid range for imshow with RGB data ([0..1] for floats or [0..255] for integers). Got range [-2.117904..2.64].\n",
            "WARNING:matplotlib.image:Clipping input data to the valid range for imshow with RGB data ([0..1] for floats or [0..255] for integers). Got range [-2.117904..2.64].\n",
            "WARNING:matplotlib.image:Clipping input data to the valid range for imshow with RGB data ([0..1] for floats or [0..255] for integers). Got range [-2.117904..2.64].\n",
            "WARNING:matplotlib.image:Clipping input data to the valid range for imshow with RGB data ([0..1] for floats or [0..255] for integers). Got range [-2.117904..2.64].\n"
          ]
        },
        {
          "output_type": "stream",
          "name": "stdout",
          "text": [
            "Top 5 Least Similar Images:\n",
            "Rank 1: Image Index 111, Similarity Score: 0.6629\n",
            "Rank 2: Image Index 640, Similarity Score: 0.6844\n",
            "Rank 3: Image Index 457, Similarity Score: 0.7412\n",
            "Rank 4: Image Index 298, Similarity Score: 0.7418\n",
            "Rank 5: Image Index 633, Similarity Score: 0.7663\n"
          ]
        },
        {
          "output_type": "display_data",
          "data": {
            "text/plain": [
              "<Figure size 1500x300 with 6 Axes>"
            ],
            "image/png": "[encoded data removed]"
          },
          "metadata": {}
        }
      ],
      "source": [
        "#Get the indices of the most 5 dissimilar images and plot them\n",
        "bottom_indices = np.argsort(similarities)[:5]  #sort in ascending order and take bottom 5\n",
        "\n",
        "#print Least Similar Images\n",
        "print(\"Top 5 Least Similar Images:\")\n",
        "for i, idx in enumerate(bottom_indices):\n",
        "    print(f\"Rank {i+1}: Image Index {idx}, Similarity Score: {similarities[idx]:.4f}\")\n",
        "\n",
        "fig, axes = plt.subplots(1, 6, figsize=(15, 3))\n",
        "\n",
        "#query first image\n",
        "axes[0].imshow(transformed_query_image.squeeze(0).permute(1, 2, 0).numpy())  #convert tensor to image\n",
        "axes[0].set_title(\"Query Image\")\n",
        "axes[0].axis(\"off\")\n",
        "\n",
        "#got least similar images\n",
        "for i, idx in enumerate(bottom_indices):\n",
        "    image = image_tensors[idx].permute(1, 2, 0).numpy()  #convert tensor to image\n",
        "    similarity_score = similarities[idx]  #get similarity score\n",
        "\n",
        "    axes[i + 1].imshow(image)  #display\n",
        "    axes[i + 1].set_title(f\"Dissimilar {i+1}\\n{100*similarity_score:.2f}%\")  #show score\n",
        "    axes[i + 1].axis(\"off\")\n",
        "\n",
        "plt.show()\n"
      ]
    }
  ],
  "metadata": {
    "colab": {
      "provenance": []
    },
    "kaggle": {
      "accelerator": "none",
      "dataSources": [
        {
          "datasetId": 6683776,
          "sourceId": 10779845,
          "sourceType": "datasetVersion"
        },
        {
          "datasetId": 6683904,
          "sourceId": 10779858,
          "sourceType": "datasetVersion"
        }
      ],
      "dockerImageVersionId": 30886,
      "isGpuEnabled": false,
      "isInternetEnabled": true,
      "language": "python",
      "sourceType": "notebook"
    },
    "kernelspec": {
      "display_name": "Python 3",
      "language": "python",
      "name": "python3"
    },
    "language_info": {
      "codemirror_mode": {
        "name": "ipython",
        "version": 3
      },
      "file_extension": ".py",
      "mimetype": "text/x-python",
      "name": "python",
      "nbconvert_exporter": "python",
      "pygments_lexer": "ipython3",
      "version": "3.10.12"
    }
  },
  "nbformat": 4,
  "nbformat_minor": 0
}